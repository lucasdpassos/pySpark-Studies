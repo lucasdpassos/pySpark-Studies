{
 "cells": [
  {
   "cell_type": "code",
   "execution_count": 10,
   "metadata": {},
   "outputs": [],
   "source": [
    "from pyspark.sql import SparkSession\n",
    "from pyspark.sql import functions as F\n",
    "from pyspark.sql.types import IntegerType, DoubleType\n",
    "\n",
    "spark = SparkSession.builder \\\n",
    "    .master('local[*]') \\\n",
    "    .appName(\"Iniciando com Spark\") \\\n",
    "    .config('spark.ui.port', '4050') \\\n",
    "    .getOrCreate()"
   ]
  },
  {
   "cell_type": "code",
   "execution_count": 11,
   "metadata": {},
   "outputs": [
    {
     "name": "stderr",
     "output_type": "stream",
     "text": [
      "                                                                                \r"
     ]
    }
   ],
   "source": [
    "json_file_path = \"./imoveis.json\"\n",
    "\n",
    "df = spark.read.json(json_file_path)\n",
    "\n"
   ]
  },
  {
   "cell_type": "code",
   "execution_count": 16,
   "metadata": {},
   "outputs": [],
   "source": [
    "dataset = df\\\n",
    "    .select('ident.customerID', 'listing.types.*', 'listing.features.*', 'listing.address.*', 'listing.prices.price', 'listing.prices.tax.*')"
   ]
  },
  {
   "cell_type": "code",
   "execution_count": 17,
   "metadata": {},
   "outputs": [
    {
     "name": "stdout",
     "output_type": "stream",
     "text": [
      "root\n",
      " |-- customerID: string (nullable = true)\n",
      " |-- unit: string (nullable = true)\n",
      " |-- usage: string (nullable = true)\n",
      " |-- bathrooms: long (nullable = true)\n",
      " |-- bedrooms: long (nullable = true)\n",
      " |-- floors: long (nullable = true)\n",
      " |-- parkingSpaces: long (nullable = true)\n",
      " |-- suites: long (nullable = true)\n",
      " |-- totalAreas: string (nullable = true)\n",
      " |-- unitFloor: long (nullable = true)\n",
      " |-- unitsOnTheFloor: long (nullable = true)\n",
      " |-- usableAreas: integer (nullable = true)\n",
      " |-- city: string (nullable = true)\n",
      " |-- location: struct (nullable = true)\n",
      " |    |-- lat: double (nullable = true)\n",
      " |    |-- lon: double (nullable = true)\n",
      " |-- neighborhood: string (nullable = true)\n",
      " |-- zone: string (nullable = true)\n",
      " |-- price: double (nullable = true)\n",
      " |-- condo: double (nullable = true)\n",
      " |-- iptu: double (nullable = true)\n",
      "\n"
     ]
    }
   ],
   "source": [
    "dataset\\\n",
    "    .withColumn('usableAreas', dataset['usableAreas'].cast(IntegerType()))\\\n",
    "    .withColumn('price', dataset['price'].cast(DoubleType()))\\\n",
    "    .withColumn('condo', dataset['condo'].cast(DoubleType()))\\\n",
    "    .withColumn('iptu', dataset['iptu'].cast(DoubleType()))\\\n",
    "    .printSchema()"
   ]
  },
  {
   "cell_type": "code",
   "execution_count": 19,
   "metadata": {},
   "outputs": [
    {
     "name": "stderr",
     "output_type": "stream",
     "text": [
      "[Stage 8:====================================================>      (8 + 1) / 9]\r"
     ]
    },
    {
     "name": "stdout",
     "output_type": "stream",
     "text": [
      "+-----------+-----+\n",
      "|      usage|count|\n",
      "+-----------+-----+\n",
      "|  Comercial| 4019|\n",
      "|Residencial|69596|\n",
      "+-----------+-----+\n",
      "\n"
     ]
    },
    {
     "name": "stderr",
     "output_type": "stream",
     "text": [
      "                                                                                \r"
     ]
    }
   ],
   "source": [
    "dataset\\\n",
    "    .select('usage')\\\n",
    "    .groupBy('usage')\\\n",
    "    .count()\\\n",
    "    .show()"
   ]
  }
 ],
 "metadata": {
  "kernelspec": {
   "display_name": "Python 3",
   "language": "python",
   "name": "python3"
  },
  "language_info": {
   "codemirror_mode": {
    "name": "ipython",
    "version": 3
   },
   "file_extension": ".py",
   "mimetype": "text/x-python",
   "name": "python",
   "nbconvert_exporter": "python",
   "pygments_lexer": "ipython3",
   "version": "3.9.6"
  },
  "orig_nbformat": 4
 },
 "nbformat": 4,
 "nbformat_minor": 2
}
